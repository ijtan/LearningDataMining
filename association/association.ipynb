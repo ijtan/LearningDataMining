{
 "metadata": {
  "language_info": {
   "codemirror_mode": {
    "name": "ipython",
    "version": 3
   },
   "file_extension": ".py",
   "mimetype": "text/x-python",
   "name": "python",
   "nbconvert_exporter": "python",
   "pygments_lexer": "ipython3",
   "version": "3.9.6"
  },
  "orig_nbformat": 4,
  "kernelspec": {
   "name": "python3",
   "display_name": "Python 3.9.6 64-bit ('DataMining': conda)"
  },
  "interpreter": {
   "hash": "682a1f341cd76898da4a2a438bf8cdd04a0c6761a325dec844757bc4a8cc5c99"
  }
 },
 "nbformat": 4,
 "nbformat_minor": 2,
 "cells": [
  {
   "source": [
    "# Aripori Association Mining Test\n",
    "\n",
    "## Imports"
   ],
   "cell_type": "markdown",
   "metadata": {}
  },
  {
   "cell_type": "code",
   "execution_count": 3,
   "metadata": {},
   "outputs": [],
   "source": [
    "import numpy as np\n",
    "import pandas as pd\n",
    "import matplotlib.pyplot as plt\n",
    "from mlxtend.frequent_patterns import apriori, association_rules\n"
   ]
  },
  {
   "source": [
    "## Data Exploration"
   ],
   "cell_type": "markdown",
   "metadata": {}
  },
  {
   "cell_type": "code",
   "execution_count": 4,
   "metadata": {},
   "outputs": [
    {
     "output_type": "execute_result",
     "data": {
      "text/plain": [
       "  InvoiceNo StockCode                          Description  Quantity  \\\n",
       "0    536365    85123A   WHITE HANGING HEART T-LIGHT HOLDER         6   \n",
       "1    536365     71053                  WHITE METAL LANTERN         6   \n",
       "2    536365    84406B       CREAM CUPID HEARTS COAT HANGER         8   \n",
       "3    536365    84029G  KNITTED UNION FLAG HOT WATER BOTTLE         6   \n",
       "4    536365    84029E       RED WOOLLY HOTTIE WHITE HEART.         6   \n",
       "\n",
       "          InvoiceDate  UnitPrice  CustomerID         Country  \n",
       "0 2010-12-01 08:26:00       2.55     17850.0  United Kingdom  \n",
       "1 2010-12-01 08:26:00       3.39     17850.0  United Kingdom  \n",
       "2 2010-12-01 08:26:00       2.75     17850.0  United Kingdom  \n",
       "3 2010-12-01 08:26:00       3.39     17850.0  United Kingdom  \n",
       "4 2010-12-01 08:26:00       3.39     17850.0  United Kingdom  "
      ],
      "text/html": "<div>\n<style scoped>\n    .dataframe tbody tr th:only-of-type {\n        vertical-align: middle;\n    }\n\n    .dataframe tbody tr th {\n        vertical-align: top;\n    }\n\n    .dataframe thead th {\n        text-align: right;\n    }\n</style>\n<table border=\"1\" class=\"dataframe\">\n  <thead>\n    <tr style=\"text-align: right;\">\n      <th></th>\n      <th>InvoiceNo</th>\n      <th>StockCode</th>\n      <th>Description</th>\n      <th>Quantity</th>\n      <th>InvoiceDate</th>\n      <th>UnitPrice</th>\n      <th>CustomerID</th>\n      <th>Country</th>\n    </tr>\n  </thead>\n  <tbody>\n    <tr>\n      <th>0</th>\n      <td>536365</td>\n      <td>85123A</td>\n      <td>WHITE HANGING HEART T-LIGHT HOLDER</td>\n      <td>6</td>\n      <td>2010-12-01 08:26:00</td>\n      <td>2.55</td>\n      <td>17850.0</td>\n      <td>United Kingdom</td>\n    </tr>\n    <tr>\n      <th>1</th>\n      <td>536365</td>\n      <td>71053</td>\n      <td>WHITE METAL LANTERN</td>\n      <td>6</td>\n      <td>2010-12-01 08:26:00</td>\n      <td>3.39</td>\n      <td>17850.0</td>\n      <td>United Kingdom</td>\n    </tr>\n    <tr>\n      <th>2</th>\n      <td>536365</td>\n      <td>84406B</td>\n      <td>CREAM CUPID HEARTS COAT HANGER</td>\n      <td>8</td>\n      <td>2010-12-01 08:26:00</td>\n      <td>2.75</td>\n      <td>17850.0</td>\n      <td>United Kingdom</td>\n    </tr>\n    <tr>\n      <th>3</th>\n      <td>536365</td>\n      <td>84029G</td>\n      <td>KNITTED UNION FLAG HOT WATER BOTTLE</td>\n      <td>6</td>\n      <td>2010-12-01 08:26:00</td>\n      <td>3.39</td>\n      <td>17850.0</td>\n      <td>United Kingdom</td>\n    </tr>\n    <tr>\n      <th>4</th>\n      <td>536365</td>\n      <td>84029E</td>\n      <td>RED WOOLLY HOTTIE WHITE HEART.</td>\n      <td>6</td>\n      <td>2010-12-01 08:26:00</td>\n      <td>3.39</td>\n      <td>17850.0</td>\n      <td>United Kingdom</td>\n    </tr>\n  </tbody>\n</table>\n</div>"
     },
     "metadata": {},
     "execution_count": 4
    }
   ],
   "source": [
    "# df = pd.read_csv('store_data.csv')\n",
    "df = pd.read_excel('online_retail_uci.xlsx')\n",
    "df.head()"
   ]
  },
  {
   "cell_type": "code",
   "execution_count": null,
   "metadata": {},
   "outputs": [],
   "source": [
    "data.columns"
   ]
  },
  {
   "cell_type": "code",
   "execution_count": null,
   "metadata": {},
   "outputs": [],
   "source": [
    "data.Country.unique()"
   ]
  },
  {
   "source": [
    "## Data Cleanup"
   ],
   "cell_type": "markdown",
   "metadata": {}
  },
  {
   "cell_type": "code",
   "execution_count": null,
   "metadata": {},
   "outputs": [],
   "source": [
    "df['Description'] = df['Description'].str.strip()\n",
    "\n",
    "data.dropna(axis = 0, subset =['InvoiceNo'], inplace = True)\n",
    "\n",
    "data['InvoiceNo'] = data['InvoiceNo'].astype('str')\n",
    "\n",
    "# Shopping was done on credit\n",
    "data = data[~data['InvoiceNo'].str.contains('C')]\n"
   ]
  },
  {
   "cell_type": "code",
   "execution_count": 11,
   "metadata": {},
   "outputs": [],
   "source": [
    "\n",
    "# Transactions done in France\n",
    "basket_France = (df[df['Country'] ==\"France\"]\n",
    "          .groupby(['InvoiceNo', 'Description'])['Quantity']\n",
    "          .sum().unstack().reset_index().fillna(0)\n",
    "          .set_index('InvoiceNo'))\n",
    "  \n",
    "# Transactions done in the United Kingdom\n",
    "basket_UK = (df[df['Country'] ==\"United Kingdom\"]\n",
    "          .groupby(['InvoiceNo', 'Description'])['Quantity']\n",
    "          .sum().unstack().reset_index().fillna(0)\n",
    "          .set_index('InvoiceNo'))\n",
    "\n",
    "# Transactions done in Malta\n",
    "basket_MT = (df[df['Country'] ==\"Malta\"]\n",
    "          .groupby(['InvoiceNo', 'Description'])['Quantity']\n",
    "          .sum().unstack().reset_index().fillna(0)\n",
    "          .set_index('InvoiceNo'))"
   ]
  },
  {
   "source": [
    "### One Hot encoding"
   ],
   "cell_type": "markdown",
   "metadata": {}
  },
  {
   "cell_type": "code",
   "execution_count": 12,
   "metadata": {},
   "outputs": [],
   "source": [
    "def hot_encode(x):\n",
    "    if(x<= 0):\n",
    "        return 0\n",
    "    if(x>= 1):\n",
    "        return 1"
   ]
  },
  {
   "cell_type": "code",
   "execution_count": 13,
   "metadata": {},
   "outputs": [],
   "source": [
    "basket_encoded = basket_France.applymap(hot_encode)\n",
    "basket_France = basket_encoded\n",
    "\n",
    "basket_encoded = basket_UK.applymap(hot_encode)\n",
    "basket_UK = basket_encoded\n",
    "\n",
    "basket_encoded = basket_MT.applymap(hot_encode)\n",
    "basket_MT = basket_encoded"
   ]
  },
  {
   "source": [
    "## Model Building"
   ],
   "cell_type": "markdown",
   "metadata": {}
  },
  {
   "cell_type": "code",
   "execution_count": 14,
   "metadata": {},
   "outputs": [
    {
     "output_type": "execute_result",
     "data": {
      "text/plain": [
       "                                           antecedents  \\\n",
       "24                        (JUMBO BAG WOODLAND ANIMALS)   \n",
       "184  (SET/20 RED RETROSPOT PAPER NAPKINS , SET/6 RE...   \n",
       "185  (SET/20 RED RETROSPOT PAPER NAPKINS , SET/6 RE...   \n",
       "191  (SET/20 RED RETROSPOT PAPER NAPKINS , SET/6 RE...   \n",
       "192  (SET/20 RED RETROSPOT PAPER NAPKINS , SET/6 RE...   \n",
       "\n",
       "                         consequents  antecedent support  consequent support  \\\n",
       "24                         (POSTAGE)            0.065076            0.650759   \n",
       "184  (SET/6 RED SPOTTY PAPER PLATES)            0.086768            0.108460   \n",
       "185    (SET/6 RED SPOTTY PAPER CUPS)            0.086768            0.117137   \n",
       "191  (SET/6 RED SPOTTY PAPER PLATES)            0.071584            0.108460   \n",
       "192    (SET/6 RED SPOTTY PAPER CUPS)            0.071584            0.117137   \n",
       "\n",
       "      support  confidence      lift  leverage  conviction  \n",
       "24   0.065076    1.000000  1.536667  0.022727         inf  \n",
       "184  0.084599    0.975000  8.989500  0.075188   35.661605  \n",
       "185  0.084599    0.975000  8.323611  0.074435   35.314534  \n",
       "191  0.069414    0.969697  8.940606  0.061650   29.420824  \n",
       "192  0.069414    0.969697  8.278339  0.061029   29.134490  "
      ],
      "text/html": "<div>\n<style scoped>\n    .dataframe tbody tr th:only-of-type {\n        vertical-align: middle;\n    }\n\n    .dataframe tbody tr th {\n        vertical-align: top;\n    }\n\n    .dataframe thead th {\n        text-align: right;\n    }\n</style>\n<table border=\"1\" class=\"dataframe\">\n  <thead>\n    <tr style=\"text-align: right;\">\n      <th></th>\n      <th>antecedents</th>\n      <th>consequents</th>\n      <th>antecedent support</th>\n      <th>consequent support</th>\n      <th>support</th>\n      <th>confidence</th>\n      <th>lift</th>\n      <th>leverage</th>\n      <th>conviction</th>\n    </tr>\n  </thead>\n  <tbody>\n    <tr>\n      <th>24</th>\n      <td>(JUMBO BAG WOODLAND ANIMALS)</td>\n      <td>(POSTAGE)</td>\n      <td>0.065076</td>\n      <td>0.650759</td>\n      <td>0.065076</td>\n      <td>1.000000</td>\n      <td>1.536667</td>\n      <td>0.022727</td>\n      <td>inf</td>\n    </tr>\n    <tr>\n      <th>184</th>\n      <td>(SET/20 RED RETROSPOT PAPER NAPKINS , SET/6 RE...</td>\n      <td>(SET/6 RED SPOTTY PAPER PLATES)</td>\n      <td>0.086768</td>\n      <td>0.108460</td>\n      <td>0.084599</td>\n      <td>0.975000</td>\n      <td>8.989500</td>\n      <td>0.075188</td>\n      <td>35.661605</td>\n    </tr>\n    <tr>\n      <th>185</th>\n      <td>(SET/20 RED RETROSPOT PAPER NAPKINS , SET/6 RE...</td>\n      <td>(SET/6 RED SPOTTY PAPER CUPS)</td>\n      <td>0.086768</td>\n      <td>0.117137</td>\n      <td>0.084599</td>\n      <td>0.975000</td>\n      <td>8.323611</td>\n      <td>0.074435</td>\n      <td>35.314534</td>\n    </tr>\n    <tr>\n      <th>191</th>\n      <td>(SET/20 RED RETROSPOT PAPER NAPKINS , SET/6 RE...</td>\n      <td>(SET/6 RED SPOTTY PAPER PLATES)</td>\n      <td>0.071584</td>\n      <td>0.108460</td>\n      <td>0.069414</td>\n      <td>0.969697</td>\n      <td>8.940606</td>\n      <td>0.061650</td>\n      <td>29.420824</td>\n    </tr>\n    <tr>\n      <th>192</th>\n      <td>(SET/20 RED RETROSPOT PAPER NAPKINS , SET/6 RE...</td>\n      <td>(SET/6 RED SPOTTY PAPER CUPS)</td>\n      <td>0.071584</td>\n      <td>0.117137</td>\n      <td>0.069414</td>\n      <td>0.969697</td>\n      <td>8.278339</td>\n      <td>0.061029</td>\n      <td>29.134490</td>\n    </tr>\n  </tbody>\n</table>\n</div>"
     },
     "metadata": {},
     "execution_count": 14
    }
   ],
   "source": [
    "freq = apriori(basket_France, min_support=0.05,use_colnames= True)\n",
    "\n",
    "fr_rules = association_rules(freq,metric='lift',min_threshold=1)\n",
    "fr_rules = fr_rules.sort_values(['confidence', 'lift'], ascending =[False, False])\n",
    "fr_rules.head()"
   ]
  },
  {
   "cell_type": "code",
   "execution_count": 24,
   "metadata": {},
   "outputs": [
    {
     "output_type": "execute_result",
     "data": {
      "text/plain": [
       "                              antecedents  \\\n",
       "0        (CHOC TRUFFLE GOLD TRINKET POT )   \n",
       "1    (CERAMIC CAKE STAND + HANGING CAKES)   \n",
       "4         (PHOTO FRAME 3 CLASSIC HANGING)   \n",
       "5    (CERAMIC CAKE STAND + HANGING CAKES)   \n",
       "8    (CERAMIC CAKE STAND + HANGING CAKES)   \n",
       "9   (SET/3 VANILLA SCENTED CANDLE IN BOX)   \n",
       "10   (CERAMIC CAKE STAND + HANGING CAKES)   \n",
       "11          (TRIPLE PHOTO FRAME CORNICE )   \n",
       "14       (CHOC TRUFFLE GOLD TRINKET POT )   \n",
       "15        (PHOTO FRAME 3 CLASSIC HANGING)   \n",
       "18       (CHOC TRUFFLE GOLD TRINKET POT )   \n",
       "19  (SET/3 VANILLA SCENTED CANDLE IN BOX)   \n",
       "20       (CHOC TRUFFLE GOLD TRINKET POT )   \n",
       "21          (TRIPLE PHOTO FRAME CORNICE )   \n",
       "22           (FAMILY PHOTO FRAME CORNICE)   \n",
       "23       (CHRISTMAS PUDDING TRINKET POT )   \n",
       "46        (PHOTO FRAME 3 CLASSIC HANGING)   \n",
       "47  (SET/3 VANILLA SCENTED CANDLE IN BOX)   \n",
       "48        (PHOTO FRAME 3 CLASSIC HANGING)   \n",
       "49          (TRIPLE PHOTO FRAME CORNICE )   \n",
       "\n",
       "                              consequents  antecedent support  \\\n",
       "0    (CERAMIC CAKE STAND + HANGING CAKES)                 0.2   \n",
       "1        (CHOC TRUFFLE GOLD TRINKET POT )                 0.2   \n",
       "4    (CERAMIC CAKE STAND + HANGING CAKES)                 0.2   \n",
       "5         (PHOTO FRAME 3 CLASSIC HANGING)                 0.2   \n",
       "8   (SET/3 VANILLA SCENTED CANDLE IN BOX)                 0.2   \n",
       "9    (CERAMIC CAKE STAND + HANGING CAKES)                 0.2   \n",
       "10          (TRIPLE PHOTO FRAME CORNICE )                 0.2   \n",
       "11   (CERAMIC CAKE STAND + HANGING CAKES)                 0.2   \n",
       "14        (PHOTO FRAME 3 CLASSIC HANGING)                 0.2   \n",
       "15       (CHOC TRUFFLE GOLD TRINKET POT )                 0.2   \n",
       "18  (SET/3 VANILLA SCENTED CANDLE IN BOX)                 0.2   \n",
       "19       (CHOC TRUFFLE GOLD TRINKET POT )                 0.2   \n",
       "20          (TRIPLE PHOTO FRAME CORNICE )                 0.2   \n",
       "21       (CHOC TRUFFLE GOLD TRINKET POT )                 0.2   \n",
       "22       (CHRISTMAS PUDDING TRINKET POT )                 0.2   \n",
       "23           (FAMILY PHOTO FRAME CORNICE)                 0.2   \n",
       "46  (SET/3 VANILLA SCENTED CANDLE IN BOX)                 0.2   \n",
       "47        (PHOTO FRAME 3 CLASSIC HANGING)                 0.2   \n",
       "48          (TRIPLE PHOTO FRAME CORNICE )                 0.2   \n",
       "49        (PHOTO FRAME 3 CLASSIC HANGING)                 0.2   \n",
       "\n",
       "    consequent support  support  confidence  lift  leverage  conviction  \n",
       "0                  0.2      0.2         1.0   5.0      0.16         inf  \n",
       "1                  0.2      0.2         1.0   5.0      0.16         inf  \n",
       "4                  0.2      0.2         1.0   5.0      0.16         inf  \n",
       "5                  0.2      0.2         1.0   5.0      0.16         inf  \n",
       "8                  0.2      0.2         1.0   5.0      0.16         inf  \n",
       "9                  0.2      0.2         1.0   5.0      0.16         inf  \n",
       "10                 0.2      0.2         1.0   5.0      0.16         inf  \n",
       "11                 0.2      0.2         1.0   5.0      0.16         inf  \n",
       "14                 0.2      0.2         1.0   5.0      0.16         inf  \n",
       "15                 0.2      0.2         1.0   5.0      0.16         inf  \n",
       "18                 0.2      0.2         1.0   5.0      0.16         inf  \n",
       "19                 0.2      0.2         1.0   5.0      0.16         inf  \n",
       "20                 0.2      0.2         1.0   5.0      0.16         inf  \n",
       "21                 0.2      0.2         1.0   5.0      0.16         inf  \n",
       "22                 0.2      0.2         1.0   5.0      0.16         inf  \n",
       "23                 0.2      0.2         1.0   5.0      0.16         inf  \n",
       "46                 0.2      0.2         1.0   5.0      0.16         inf  \n",
       "47                 0.2      0.2         1.0   5.0      0.16         inf  \n",
       "48                 0.2      0.2         1.0   5.0      0.16         inf  \n",
       "49                 0.2      0.2         1.0   5.0      0.16         inf  "
      ],
      "text/html": "<div>\n<style scoped>\n    .dataframe tbody tr th:only-of-type {\n        vertical-align: middle;\n    }\n\n    .dataframe tbody tr th {\n        vertical-align: top;\n    }\n\n    .dataframe thead th {\n        text-align: right;\n    }\n</style>\n<table border=\"1\" class=\"dataframe\">\n  <thead>\n    <tr style=\"text-align: right;\">\n      <th></th>\n      <th>antecedents</th>\n      <th>consequents</th>\n      <th>antecedent support</th>\n      <th>consequent support</th>\n      <th>support</th>\n      <th>confidence</th>\n      <th>lift</th>\n      <th>leverage</th>\n      <th>conviction</th>\n    </tr>\n  </thead>\n  <tbody>\n    <tr>\n      <th>0</th>\n      <td>(CHOC TRUFFLE GOLD TRINKET POT )</td>\n      <td>(CERAMIC CAKE STAND + HANGING CAKES)</td>\n      <td>0.2</td>\n      <td>0.2</td>\n      <td>0.2</td>\n      <td>1.0</td>\n      <td>5.0</td>\n      <td>0.16</td>\n      <td>inf</td>\n    </tr>\n    <tr>\n      <th>1</th>\n      <td>(CERAMIC CAKE STAND + HANGING CAKES)</td>\n      <td>(CHOC TRUFFLE GOLD TRINKET POT )</td>\n      <td>0.2</td>\n      <td>0.2</td>\n      <td>0.2</td>\n      <td>1.0</td>\n      <td>5.0</td>\n      <td>0.16</td>\n      <td>inf</td>\n    </tr>\n    <tr>\n      <th>4</th>\n      <td>(PHOTO FRAME 3 CLASSIC HANGING)</td>\n      <td>(CERAMIC CAKE STAND + HANGING CAKES)</td>\n      <td>0.2</td>\n      <td>0.2</td>\n      <td>0.2</td>\n      <td>1.0</td>\n      <td>5.0</td>\n      <td>0.16</td>\n      <td>inf</td>\n    </tr>\n    <tr>\n      <th>5</th>\n      <td>(CERAMIC CAKE STAND + HANGING CAKES)</td>\n      <td>(PHOTO FRAME 3 CLASSIC HANGING)</td>\n      <td>0.2</td>\n      <td>0.2</td>\n      <td>0.2</td>\n      <td>1.0</td>\n      <td>5.0</td>\n      <td>0.16</td>\n      <td>inf</td>\n    </tr>\n    <tr>\n      <th>8</th>\n      <td>(CERAMIC CAKE STAND + HANGING CAKES)</td>\n      <td>(SET/3 VANILLA SCENTED CANDLE IN BOX)</td>\n      <td>0.2</td>\n      <td>0.2</td>\n      <td>0.2</td>\n      <td>1.0</td>\n      <td>5.0</td>\n      <td>0.16</td>\n      <td>inf</td>\n    </tr>\n    <tr>\n      <th>9</th>\n      <td>(SET/3 VANILLA SCENTED CANDLE IN BOX)</td>\n      <td>(CERAMIC CAKE STAND + HANGING CAKES)</td>\n      <td>0.2</td>\n      <td>0.2</td>\n      <td>0.2</td>\n      <td>1.0</td>\n      <td>5.0</td>\n      <td>0.16</td>\n      <td>inf</td>\n    </tr>\n    <tr>\n      <th>10</th>\n      <td>(CERAMIC CAKE STAND + HANGING CAKES)</td>\n      <td>(TRIPLE PHOTO FRAME CORNICE )</td>\n      <td>0.2</td>\n      <td>0.2</td>\n      <td>0.2</td>\n      <td>1.0</td>\n      <td>5.0</td>\n      <td>0.16</td>\n      <td>inf</td>\n    </tr>\n    <tr>\n      <th>11</th>\n      <td>(TRIPLE PHOTO FRAME CORNICE )</td>\n      <td>(CERAMIC CAKE STAND + HANGING CAKES)</td>\n      <td>0.2</td>\n      <td>0.2</td>\n      <td>0.2</td>\n      <td>1.0</td>\n      <td>5.0</td>\n      <td>0.16</td>\n      <td>inf</td>\n    </tr>\n    <tr>\n      <th>14</th>\n      <td>(CHOC TRUFFLE GOLD TRINKET POT )</td>\n      <td>(PHOTO FRAME 3 CLASSIC HANGING)</td>\n      <td>0.2</td>\n      <td>0.2</td>\n      <td>0.2</td>\n      <td>1.0</td>\n      <td>5.0</td>\n      <td>0.16</td>\n      <td>inf</td>\n    </tr>\n    <tr>\n      <th>15</th>\n      <td>(PHOTO FRAME 3 CLASSIC HANGING)</td>\n      <td>(CHOC TRUFFLE GOLD TRINKET POT )</td>\n      <td>0.2</td>\n      <td>0.2</td>\n      <td>0.2</td>\n      <td>1.0</td>\n      <td>5.0</td>\n      <td>0.16</td>\n      <td>inf</td>\n    </tr>\n    <tr>\n      <th>18</th>\n      <td>(CHOC TRUFFLE GOLD TRINKET POT )</td>\n      <td>(SET/3 VANILLA SCENTED CANDLE IN BOX)</td>\n      <td>0.2</td>\n      <td>0.2</td>\n      <td>0.2</td>\n      <td>1.0</td>\n      <td>5.0</td>\n      <td>0.16</td>\n      <td>inf</td>\n    </tr>\n    <tr>\n      <th>19</th>\n      <td>(SET/3 VANILLA SCENTED CANDLE IN BOX)</td>\n      <td>(CHOC TRUFFLE GOLD TRINKET POT )</td>\n      <td>0.2</td>\n      <td>0.2</td>\n      <td>0.2</td>\n      <td>1.0</td>\n      <td>5.0</td>\n      <td>0.16</td>\n      <td>inf</td>\n    </tr>\n    <tr>\n      <th>20</th>\n      <td>(CHOC TRUFFLE GOLD TRINKET POT )</td>\n      <td>(TRIPLE PHOTO FRAME CORNICE )</td>\n      <td>0.2</td>\n      <td>0.2</td>\n      <td>0.2</td>\n      <td>1.0</td>\n      <td>5.0</td>\n      <td>0.16</td>\n      <td>inf</td>\n    </tr>\n    <tr>\n      <th>21</th>\n      <td>(TRIPLE PHOTO FRAME CORNICE )</td>\n      <td>(CHOC TRUFFLE GOLD TRINKET POT )</td>\n      <td>0.2</td>\n      <td>0.2</td>\n      <td>0.2</td>\n      <td>1.0</td>\n      <td>5.0</td>\n      <td>0.16</td>\n      <td>inf</td>\n    </tr>\n    <tr>\n      <th>22</th>\n      <td>(FAMILY PHOTO FRAME CORNICE)</td>\n      <td>(CHRISTMAS PUDDING TRINKET POT )</td>\n      <td>0.2</td>\n      <td>0.2</td>\n      <td>0.2</td>\n      <td>1.0</td>\n      <td>5.0</td>\n      <td>0.16</td>\n      <td>inf</td>\n    </tr>\n    <tr>\n      <th>23</th>\n      <td>(CHRISTMAS PUDDING TRINKET POT )</td>\n      <td>(FAMILY PHOTO FRAME CORNICE)</td>\n      <td>0.2</td>\n      <td>0.2</td>\n      <td>0.2</td>\n      <td>1.0</td>\n      <td>5.0</td>\n      <td>0.16</td>\n      <td>inf</td>\n    </tr>\n    <tr>\n      <th>46</th>\n      <td>(PHOTO FRAME 3 CLASSIC HANGING)</td>\n      <td>(SET/3 VANILLA SCENTED CANDLE IN BOX)</td>\n      <td>0.2</td>\n      <td>0.2</td>\n      <td>0.2</td>\n      <td>1.0</td>\n      <td>5.0</td>\n      <td>0.16</td>\n      <td>inf</td>\n    </tr>\n    <tr>\n      <th>47</th>\n      <td>(SET/3 VANILLA SCENTED CANDLE IN BOX)</td>\n      <td>(PHOTO FRAME 3 CLASSIC HANGING)</td>\n      <td>0.2</td>\n      <td>0.2</td>\n      <td>0.2</td>\n      <td>1.0</td>\n      <td>5.0</td>\n      <td>0.16</td>\n      <td>inf</td>\n    </tr>\n    <tr>\n      <th>48</th>\n      <td>(PHOTO FRAME 3 CLASSIC HANGING)</td>\n      <td>(TRIPLE PHOTO FRAME CORNICE )</td>\n      <td>0.2</td>\n      <td>0.2</td>\n      <td>0.2</td>\n      <td>1.0</td>\n      <td>5.0</td>\n      <td>0.16</td>\n      <td>inf</td>\n    </tr>\n    <tr>\n      <th>49</th>\n      <td>(TRIPLE PHOTO FRAME CORNICE )</td>\n      <td>(PHOTO FRAME 3 CLASSIC HANGING)</td>\n      <td>0.2</td>\n      <td>0.2</td>\n      <td>0.2</td>\n      <td>1.0</td>\n      <td>5.0</td>\n      <td>0.16</td>\n      <td>inf</td>\n    </tr>\n  </tbody>\n</table>\n</div>"
     },
     "metadata": {},
     "execution_count": 24
    }
   ],
   "source": [
    "freq_mt = apriori(basket_MT, min_support=0.105,use_colnames= True)\n",
    "\n",
    "mt_rules = association_rules(freq_mt,metric='lift',min_threshold=1)\n",
    "mt_rules = mt_rules.sort_values(['confidence', 'lift'], ascending =[False, False])\n",
    "mt_rules.head(20)"
   ]
  },
  {
   "cell_type": "code",
   "execution_count": null,
   "metadata": {},
   "outputs": [],
   "source": []
  }
 ]
}